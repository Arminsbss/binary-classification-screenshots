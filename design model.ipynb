{
 "cells": [
  {
   "cell_type": "code",
   "execution_count": 27,
   "metadata": {},
   "outputs": [
    {
     "name": "stdout",
     "output_type": "stream",
     "text": [
      "C:\\Users\\h.ghanipur\\Desktop\\vgg\n",
      "1/1 [==============================] - 0s 385ms/step\n",
      "1/1 [==============================] - 0s 235ms/step\n"
     ]
    }
   ],
   "source": [
    "import tkinter as tk\n",
    "from tkinter import filedialog, messagebox\n",
    "from keras.preprocessing import image\n",
    "from keras.models import load_model\n",
    "import numpy as np\n",
    "import os\n",
    "\n",
    "# Get the current working directory\n",
    "cwd = os.getcwd()\n",
    "%cd \"C:/Users/h.ghanipur/Desktop/vgg\"\n",
    "\n",
    "\n",
    "# Load the pre-trained model\n",
    "model = load_model('vgg_my_model2.h5', compile=True)\n",
    "\n",
    "# Function to perform inference\n",
    "def predict(image_path):\n",
    "    try:\n",
    "        # Load and preprocess the image\n",
    "        img = image.load_img(image_path, target_size=(224, 224))  # Adjust target size as needed\n",
    "        img = image.img_to_array(img)\n",
    "        img = np.expand_dims(img, axis=0)\n",
    "\n",
    "        # Make prediction\n",
    "        prediction = model.predict(img)\n",
    "        \n",
    "        # Example: Convert prediction to text\n",
    "        # Modify this part based on your specific model and task\n",
    "        if prediction>0.5:\n",
    "            result_text = f\"!اسکرین شاته\"  # Example text\n",
    "        else:\n",
    "            result_text = f\"!اسکرین شات نیس\"\n",
    "        \n",
    "        # Update result label\n",
    "        result_label.config(text=result_text)\n",
    "    except Exception as e:\n",
    "        messagebox.showerror(\"Error\", f\"An error occurred: {str(e)}\")\n",
    "\n",
    "# Function to open file dialog\n",
    "def select_image():\n",
    "    file_path = filedialog.askopenfilename()\n",
    "    if file_path:\n",
    "        predict(file_path)\n",
    "\n",
    "# Create GUI\n",
    "root = tk.Tk()\n",
    "root.title(\"تشخیص دهنده اسکرین شات\")\n",
    "\n",
    "# Button to select image\n",
    "select_button = tk.Button(root, text=\"عکس انتخاب کن\", command=select_image)\n",
    "select_button.pack()\n",
    "\n",
    "# Label to display result\n",
    "result_label = tk.Label(root, text=\"\")\n",
    "result_label.pack()\n",
    "\n",
    "# Run the GUI\n",
    "root.mainloop()\n"
   ]
  }
 ],
 "metadata": {
  "kernelspec": {
   "display_name": "Image processing",
   "language": "python",
   "name": "python3"
  },
  "language_info": {
   "codemirror_mode": {
    "name": "ipython",
    "version": 3
   },
   "file_extension": ".py",
   "mimetype": "text/x-python",
   "name": "python",
   "nbconvert_exporter": "python",
   "pygments_lexer": "ipython3",
   "version": "3.8.18"
  }
 },
 "nbformat": 4,
 "nbformat_minor": 2
}
